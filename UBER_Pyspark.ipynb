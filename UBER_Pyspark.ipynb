{
 "cells": [
  {
   "cell_type": "code",
   "execution_count": 2,
   "metadata": {},
   "outputs": [],
   "source": [
    "import pandas as pd\n",
    "import numpy as np\n",
    "import pyspark\n",
    "import findspark\n",
    "from pyspark.sql import SparkSession\n",
    "from pyspark import SparkContext\n",
    "from pyspark.sql.functions import udf\n",
    "from pyspark.sql.functions import isnan, when, count, col\n",
    "from pyspark.sql.functions import min,max\n",
    "from pyspark.sql.functions import weekofyear, sum\n",
    "import pyspark.sql.types as types\n",
    "import math\n",
    "from ipywidgets import interact, interactive, fixed, interact_manual\n",
    "import ipywidgets as widgets"
   ]
  },
  {
   "cell_type": "code",
   "execution_count": 2,
   "metadata": {},
   "outputs": [],
   "source": [
    "zf1 = pd.read_csv('/Users/sakshambhatia/Downloads/Data_For_Assignment/4/uber_data_nyc_2016-06_3m_partitioned.csv/part-00000-65909711-74cb-4da9-acbd-3c279273213e.csv.gz')"
   ]
  },
  {
   "cell_type": "code",
   "execution_count": 3,
   "metadata": {},
   "outputs": [],
   "source": [
    "zf2 = pd.read_csv('/Users/sakshambhatia/Downloads/Data_For_Assignment/4/uber_data_nyc_2016-06_3m_partitioned.csv/part-00001-65909711-74cb-4da9-acbd-3c279273213e.csv.gz')"
   ]
  },
  {
   "cell_type": "code",
   "execution_count": 4,
   "metadata": {},
   "outputs": [],
   "source": [
    "zf3 = pd.read_csv('/Users/sakshambhatia/Downloads/Data_For_Assignment/4/uber_data_nyc_2016-06_3m_partitioned.csv/part-00002-65909711-74cb-4da9-acbd-3c279273213e.csv.gz')"
   ]
  },
  {
   "cell_type": "code",
   "execution_count": 5,
   "metadata": {},
   "outputs": [],
   "source": [
    "zf4 = pd.read_csv('/Users/sakshambhatia/Downloads/Data_For_Assignment/4/uber_data_nyc_2016-06_3m_partitioned.csv/part-00003-65909711-74cb-4da9-acbd-3c279273213e.csv.gz')"
   ]
  },
  {
   "cell_type": "code",
   "execution_count": 6,
   "metadata": {},
   "outputs": [],
   "source": [
    "zf = zf4.append(zf3.append(zf2.append(zf1)))"
   ]
  },
  {
   "cell_type": "code",
   "execution_count": 7,
   "metadata": {},
   "outputs": [],
   "source": [
    "zf.set_index(zf.index,inplace=True)"
   ]
  },
  {
   "cell_type": "code",
   "execution_count": 8,
   "metadata": {},
   "outputs": [],
   "source": [
    "#df.to_csv('/Users/sakshambhatia/Documents/fullSetData.csv')"
   ]
  },
  {
   "cell_type": "code",
   "execution_count": 9,
   "metadata": {},
   "outputs": [
    {
     "data": {
      "text/plain": [
       "3299999"
      ]
     },
     "execution_count": 9,
     "metadata": {},
     "output_type": "execute_result"
    }
   ],
   "source": [
    "len(zf)"
   ]
  },
  {
   "cell_type": "code",
   "execution_count": 10,
   "metadata": {},
   "outputs": [
    {
     "data": {
      "text/html": [
       "<div>\n",
       "<style scoped>\n",
       "    .dataframe tbody tr th:only-of-type {\n",
       "        vertical-align: middle;\n",
       "    }\n",
       "\n",
       "    .dataframe tbody tr th {\n",
       "        vertical-align: top;\n",
       "    }\n",
       "\n",
       "    .dataframe thead th {\n",
       "        text-align: right;\n",
       "    }\n",
       "</style>\n",
       "<table border=\"1\" class=\"dataframe\">\n",
       "  <thead>\n",
       "    <tr style=\"text-align: right;\">\n",
       "      <th></th>\n",
       "      <th>VendorID</th>\n",
       "      <th>pickup_longitude</th>\n",
       "      <th>pickup_latitude</th>\n",
       "      <th>dropoff_longitude</th>\n",
       "      <th>dropoff_latitude</th>\n",
       "      <th>total_amount</th>\n",
       "    </tr>\n",
       "  </thead>\n",
       "  <tbody>\n",
       "    <tr>\n",
       "      <td>count</td>\n",
       "      <td>3.299999e+06</td>\n",
       "      <td>3.299999e+06</td>\n",
       "      <td>3.299999e+06</td>\n",
       "      <td>3.299999e+06</td>\n",
       "      <td>3.299999e+06</td>\n",
       "      <td>3.299999e+06</td>\n",
       "    </tr>\n",
       "    <tr>\n",
       "      <td>mean</td>\n",
       "      <td>1.527929e+00</td>\n",
       "      <td>-7.305836e+01</td>\n",
       "      <td>4.024679e+01</td>\n",
       "      <td>-7.312868e+01</td>\n",
       "      <td>4.028653e+01</td>\n",
       "      <td>1.664624e+01</td>\n",
       "    </tr>\n",
       "    <tr>\n",
       "      <td>std</td>\n",
       "      <td>4.992194e-01</td>\n",
       "      <td>8.175607e+00</td>\n",
       "      <td>4.503776e+00</td>\n",
       "      <td>7.858150e+00</td>\n",
       "      <td>4.328784e+00</td>\n",
       "      <td>1.272999e+02</td>\n",
       "    </tr>\n",
       "    <tr>\n",
       "      <td>min</td>\n",
       "      <td>1.000000e+00</td>\n",
       "      <td>-1.151684e+02</td>\n",
       "      <td>0.000000e+00</td>\n",
       "      <td>-1.151754e+02</td>\n",
       "      <td>0.000000e+00</td>\n",
       "      <td>-1.953000e+02</td>\n",
       "    </tr>\n",
       "    <tr>\n",
       "      <td>25%</td>\n",
       "      <td>1.000000e+00</td>\n",
       "      <td>-7.399184e+01</td>\n",
       "      <td>4.073531e+01</td>\n",
       "      <td>-7.399123e+01</td>\n",
       "      <td>4.073413e+01</td>\n",
       "      <td>8.760000e+00</td>\n",
       "    </tr>\n",
       "    <tr>\n",
       "      <td>50%</td>\n",
       "      <td>2.000000e+00</td>\n",
       "      <td>-7.398138e+01</td>\n",
       "      <td>4.075307e+01</td>\n",
       "      <td>-7.397925e+01</td>\n",
       "      <td>4.075380e+01</td>\n",
       "      <td>1.230000e+01</td>\n",
       "    </tr>\n",
       "    <tr>\n",
       "      <td>75%</td>\n",
       "      <td>2.000000e+00</td>\n",
       "      <td>-7.396577e+01</td>\n",
       "      <td>4.076868e+01</td>\n",
       "      <td>-7.396158e+01</td>\n",
       "      <td>4.076994e+01</td>\n",
       "      <td>1.836000e+01</td>\n",
       "    </tr>\n",
       "    <tr>\n",
       "      <td>max</td>\n",
       "      <td>2.000000e+00</td>\n",
       "      <td>0.000000e+00</td>\n",
       "      <td>5.109830e+01</td>\n",
       "      <td>1.062469e+02</td>\n",
       "      <td>5.031214e+01</td>\n",
       "      <td>1.874423e+05</td>\n",
       "    </tr>\n",
       "  </tbody>\n",
       "</table>\n",
       "</div>"
      ],
      "text/plain": [
       "           VendorID  pickup_longitude  pickup_latitude  dropoff_longitude  \\\n",
       "count  3.299999e+06      3.299999e+06     3.299999e+06       3.299999e+06   \n",
       "mean   1.527929e+00     -7.305836e+01     4.024679e+01      -7.312868e+01   \n",
       "std    4.992194e-01      8.175607e+00     4.503776e+00       7.858150e+00   \n",
       "min    1.000000e+00     -1.151684e+02     0.000000e+00      -1.151754e+02   \n",
       "25%    1.000000e+00     -7.399184e+01     4.073531e+01      -7.399123e+01   \n",
       "50%    2.000000e+00     -7.398138e+01     4.075307e+01      -7.397925e+01   \n",
       "75%    2.000000e+00     -7.396577e+01     4.076868e+01      -7.396158e+01   \n",
       "max    2.000000e+00      0.000000e+00     5.109830e+01       1.062469e+02   \n",
       "\n",
       "       dropoff_latitude  total_amount  \n",
       "count      3.299999e+06  3.299999e+06  \n",
       "mean       4.028653e+01  1.664624e+01  \n",
       "std        4.328784e+00  1.272999e+02  \n",
       "min        0.000000e+00 -1.953000e+02  \n",
       "25%        4.073413e+01  8.760000e+00  \n",
       "50%        4.075380e+01  1.230000e+01  \n",
       "75%        4.076994e+01  1.836000e+01  \n",
       "max        5.031214e+01  1.874423e+05  "
      ]
     },
     "execution_count": 10,
     "metadata": {},
     "output_type": "execute_result"
    }
   ],
   "source": [
    "zf.describe()"
   ]
  },
  {
   "cell_type": "code",
   "execution_count": 11,
   "metadata": {},
   "outputs": [],
   "source": [
    "zf['index']=np.arange(len(zf))"
   ]
  },
  {
   "cell_type": "code",
   "execution_count": 12,
   "metadata": {},
   "outputs": [
    {
     "data": {
      "text/html": [
       "<div>\n",
       "<style scoped>\n",
       "    .dataframe tbody tr th:only-of-type {\n",
       "        vertical-align: middle;\n",
       "    }\n",
       "\n",
       "    .dataframe tbody tr th {\n",
       "        vertical-align: top;\n",
       "    }\n",
       "\n",
       "    .dataframe thead th {\n",
       "        text-align: right;\n",
       "    }\n",
       "</style>\n",
       "<table border=\"1\" class=\"dataframe\">\n",
       "  <thead>\n",
       "    <tr style=\"text-align: right;\">\n",
       "      <th></th>\n",
       "      <th>VendorID</th>\n",
       "      <th>tpep_pickup_datetime</th>\n",
       "      <th>pickup_longitude</th>\n",
       "      <th>pickup_latitude</th>\n",
       "      <th>dropoff_longitude</th>\n",
       "      <th>dropoff_latitude</th>\n",
       "      <th>total_amount</th>\n",
       "    </tr>\n",
       "    <tr>\n",
       "      <th>index</th>\n",
       "      <th></th>\n",
       "      <th></th>\n",
       "      <th></th>\n",
       "      <th></th>\n",
       "      <th></th>\n",
       "      <th></th>\n",
       "      <th></th>\n",
       "    </tr>\n",
       "  </thead>\n",
       "  <tbody>\n",
       "    <tr>\n",
       "      <td>0</td>\n",
       "      <td>2</td>\n",
       "      <td>2016-06-09T21:06:36.000-07:00</td>\n",
       "      <td>-73.983360</td>\n",
       "      <td>40.760937</td>\n",
       "      <td>-73.977463</td>\n",
       "      <td>40.753979</td>\n",
       "      <td>7.30</td>\n",
       "    </tr>\n",
       "    <tr>\n",
       "      <td>1</td>\n",
       "      <td>2</td>\n",
       "      <td>2016-06-09T21:06:36.000-07:00</td>\n",
       "      <td>-73.987106</td>\n",
       "      <td>40.733173</td>\n",
       "      <td>-73.985909</td>\n",
       "      <td>40.766445</td>\n",
       "      <td>17.76</td>\n",
       "    </tr>\n",
       "    <tr>\n",
       "      <td>2</td>\n",
       "      <td>1</td>\n",
       "      <td>2016-06-09T21:06:37.000-07:00</td>\n",
       "      <td>-73.984276</td>\n",
       "      <td>40.775009</td>\n",
       "      <td>-73.968498</td>\n",
       "      <td>40.766430</td>\n",
       "      <td>9.30</td>\n",
       "    </tr>\n",
       "    <tr>\n",
       "      <td>3</td>\n",
       "      <td>2</td>\n",
       "      <td>2016-06-09T21:06:37.000-07:00</td>\n",
       "      <td>-73.976334</td>\n",
       "      <td>40.785851</td>\n",
       "      <td>-73.971733</td>\n",
       "      <td>40.791969</td>\n",
       "      <td>4.80</td>\n",
       "    </tr>\n",
       "    <tr>\n",
       "      <td>4</td>\n",
       "      <td>1</td>\n",
       "      <td>2016-06-09T21:06:38.000-07:00</td>\n",
       "      <td>-73.988029</td>\n",
       "      <td>40.743835</td>\n",
       "      <td>-73.990173</td>\n",
       "      <td>40.731773</td>\n",
       "      <td>8.75</td>\n",
       "    </tr>\n",
       "    <tr>\n",
       "      <td>...</td>\n",
       "      <td>...</td>\n",
       "      <td>...</td>\n",
       "      <td>...</td>\n",
       "      <td>...</td>\n",
       "      <td>...</td>\n",
       "      <td>...</td>\n",
       "      <td>...</td>\n",
       "    </tr>\n",
       "    <tr>\n",
       "      <td>3299994</td>\n",
       "      <td>2</td>\n",
       "      <td>2016-06-07T11:57:15.000-07:00</td>\n",
       "      <td>-73.968178</td>\n",
       "      <td>40.762550</td>\n",
       "      <td>-73.998390</td>\n",
       "      <td>40.740429</td>\n",
       "      <td>15.80</td>\n",
       "    </tr>\n",
       "    <tr>\n",
       "      <td>3299995</td>\n",
       "      <td>1</td>\n",
       "      <td>2016-06-07T11:57:16.000-07:00</td>\n",
       "      <td>-73.980606</td>\n",
       "      <td>40.751019</td>\n",
       "      <td>-73.983719</td>\n",
       "      <td>40.746422</td>\n",
       "      <td>7.30</td>\n",
       "    </tr>\n",
       "    <tr>\n",
       "      <td>3299996</td>\n",
       "      <td>1</td>\n",
       "      <td>2016-06-07T11:57:18.000-07:00</td>\n",
       "      <td>-73.965721</td>\n",
       "      <td>40.754444</td>\n",
       "      <td>-73.950455</td>\n",
       "      <td>40.784973</td>\n",
       "      <td>14.75</td>\n",
       "    </tr>\n",
       "    <tr>\n",
       "      <td>3299997</td>\n",
       "      <td>2</td>\n",
       "      <td>2016-06-07T11:57:19.000-07:00</td>\n",
       "      <td>-73.873352</td>\n",
       "      <td>40.773949</td>\n",
       "      <td>-73.980774</td>\n",
       "      <td>40.760410</td>\n",
       "      <td>44.84</td>\n",
       "    </tr>\n",
       "    <tr>\n",
       "      <td>3299998</td>\n",
       "      <td>2</td>\n",
       "      <td>2016-06-07T12:11:33.000-07:00</td>\n",
       "      <td>-73.963699</td>\n",
       "      <td>40.774010</td>\n",
       "      <td>-73.951202</td>\n",
       "      <td>40.781860</td>\n",
       "      <td>10.56</td>\n",
       "    </tr>\n",
       "  </tbody>\n",
       "</table>\n",
       "<p>3299999 rows × 7 columns</p>\n",
       "</div>"
      ],
      "text/plain": [
       "         VendorID           tpep_pickup_datetime  pickup_longitude  \\\n",
       "index                                                                \n",
       "0               2  2016-06-09T21:06:36.000-07:00        -73.983360   \n",
       "1               2  2016-06-09T21:06:36.000-07:00        -73.987106   \n",
       "2               1  2016-06-09T21:06:37.000-07:00        -73.984276   \n",
       "3               2  2016-06-09T21:06:37.000-07:00        -73.976334   \n",
       "4               1  2016-06-09T21:06:38.000-07:00        -73.988029   \n",
       "...           ...                            ...               ...   \n",
       "3299994         2  2016-06-07T11:57:15.000-07:00        -73.968178   \n",
       "3299995         1  2016-06-07T11:57:16.000-07:00        -73.980606   \n",
       "3299996         1  2016-06-07T11:57:18.000-07:00        -73.965721   \n",
       "3299997         2  2016-06-07T11:57:19.000-07:00        -73.873352   \n",
       "3299998         2  2016-06-07T12:11:33.000-07:00        -73.963699   \n",
       "\n",
       "         pickup_latitude  dropoff_longitude  dropoff_latitude  total_amount  \n",
       "index                                                                        \n",
       "0              40.760937         -73.977463         40.753979          7.30  \n",
       "1              40.733173         -73.985909         40.766445         17.76  \n",
       "2              40.775009         -73.968498         40.766430          9.30  \n",
       "3              40.785851         -73.971733         40.791969          4.80  \n",
       "4              40.743835         -73.990173         40.731773          8.75  \n",
       "...                  ...                ...               ...           ...  \n",
       "3299994        40.762550         -73.998390         40.740429         15.80  \n",
       "3299995        40.751019         -73.983719         40.746422          7.30  \n",
       "3299996        40.754444         -73.950455         40.784973         14.75  \n",
       "3299997        40.773949         -73.980774         40.760410         44.84  \n",
       "3299998        40.774010         -73.951202         40.781860         10.56  \n",
       "\n",
       "[3299999 rows x 7 columns]"
      ]
     },
     "execution_count": 12,
     "metadata": {},
     "output_type": "execute_result"
    }
   ],
   "source": [
    "zf.set_index('index')"
   ]
  },
  {
   "cell_type": "code",
   "execution_count": 38,
   "metadata": {},
   "outputs": [],
   "source": [
    "sc = SparkContext() \n",
    "sqlContext = pyspark.SQLContext(sc)\n",
    "spark = pyspark.sql.SparkSession(sc) "
   ]
  },
  {
   "cell_type": "code",
   "execution_count": 40,
   "metadata": {},
   "outputs": [],
   "source": [
    "df0 = spark.read.csv('/Users/sakshambhatia/Downloads/Data_For_Assignment/4/uber_data_nyc_2016-06_3m_partitioned.csv/part-00000-65909711-74cb-4da9-acbd-3c279273213e.csv.gz'\n",
    "                    ,header='true',inferSchema='true')"
   ]
  },
  {
   "cell_type": "code",
   "execution_count": 41,
   "metadata": {},
   "outputs": [],
   "source": [
    "df1 = spark.read.csv('/Users/sakshambhatia/Downloads/Data_For_Assignment/4/uber_data_nyc_2016-06_3m_partitioned.csv/part-00001-65909711-74cb-4da9-acbd-3c279273213e.csv.gz'\n",
    "                    ,header='true',inferSchema='true')"
   ]
  },
  {
   "cell_type": "code",
   "execution_count": 42,
   "metadata": {},
   "outputs": [],
   "source": [
    "df2 = spark.read.csv('/Users/sakshambhatia/Downloads/Data_For_Assignment/4/uber_data_nyc_2016-06_3m_partitioned.csv/part-00002-65909711-74cb-4da9-acbd-3c279273213e.csv.gz'\n",
    "                    ,header='true',inferSchema='true')"
   ]
  },
  {
   "cell_type": "code",
   "execution_count": 43,
   "metadata": {},
   "outputs": [],
   "source": [
    "df3 = spark.read.csv('/Users/sakshambhatia/Downloads/Data_For_Assignment/4/uber_data_nyc_2016-06_3m_partitioned.csv/part-00003-65909711-74cb-4da9-acbd-3c279273213e.csv.gz'\n",
    "                    ,header='true',inferSchema='true')"
   ]
  },
  {
   "cell_type": "code",
   "execution_count": 44,
   "metadata": {},
   "outputs": [],
   "source": [
    "df = df0.union(df1.union(df2.union(df3)))"
   ]
  },
  {
   "cell_type": "code",
   "execution_count": 19,
   "metadata": {},
   "outputs": [
    {
     "data": {
      "text/plain": [
       "3299999"
      ]
     },
     "execution_count": 19,
     "metadata": {},
     "output_type": "execute_result"
    }
   ],
   "source": [
    "df.count()"
   ]
  },
  {
   "cell_type": "code",
   "execution_count": 45,
   "metadata": {},
   "outputs": [],
   "source": [
    "def haversine(lon1,lat1,lon2,lat2): \n",
    "    dLon = (lon2-lon1)*math.pi/180.0\n",
    "    dLat = (lat2-lat1)*math.pi/180.0\n",
    "\n",
    "    lat1 = (lat1)*math.pi/180.0\n",
    "    lat2 = (lat2)*math.pi/180.0\n",
    "  \n",
    "    a = (pow(math.sin(dLat/2),2)+pow(math.sin(dLon/2),2)*math.cos(lat1)*math.cos(lat2)); \n",
    "    rad = 6371\n",
    "    c = 2*math.asin(math.sqrt(a)) \n",
    "    return (rad*c*0.621371) "
   ]
  },
  {
   "cell_type": "code",
   "execution_count": 46,
   "metadata": {},
   "outputs": [],
   "source": [
    "haversine_udf = udf(haversine,types.DoubleType())\n",
    "uber=df.withColumn(\"distance_miles\",haversine_udf(\"pickup_longitude\",\"pickup_latitude\",\"dropoff_longitude\",\"dropoff_latitude\"))"
   ]
  },
  {
   "cell_type": "code",
   "execution_count": 22,
   "metadata": {},
   "outputs": [
    {
     "name": "stdout",
     "output_type": "stream",
     "text": [
      "root\n",
      " |-- VendorID: integer (nullable = true)\n",
      " |-- tpep_pickup_datetime: timestamp (nullable = true)\n",
      " |-- pickup_longitude: double (nullable = true)\n",
      " |-- pickup_latitude: double (nullable = true)\n",
      " |-- dropoff_longitude: double (nullable = true)\n",
      " |-- dropoff_latitude: double (nullable = true)\n",
      " |-- total_amount: double (nullable = true)\n",
      " |-- distance_miles: double (nullable = true)\n",
      "\n"
     ]
    }
   ],
   "source": [
    "uber.printSchema()"
   ]
  },
  {
   "cell_type": "code",
   "execution_count": 23,
   "metadata": {},
   "outputs": [
    {
     "name": "stdout",
     "output_type": "stream",
     "text": [
      "+-------+------------------+-------------------+-----------------+-------------------+-----------------+------------------+------------------+\n",
      "|summary|          VendorID|   pickup_longitude|  pickup_latitude|  dropoff_longitude| dropoff_latitude|      total_amount|    distance_miles|\n",
      "+-------+------------------+-------------------+-----------------+-------------------+-----------------+------------------+------------------+\n",
      "|  count|           3299999|            3299999|          3299999|            3299999|          3299999|           3299999|           3299999|\n",
      "|   mean|1.5279289478572569| -73.05836057064273|40.24678831059782|  -73.1286791673134|40.28652937530498|16.646240335331093|22.167555833907294|\n",
      "| stddev|0.4992194401191109|  8.175606882912328|4.503776121420567|  7.858149695712172|4.328784275308626|127.29985554432749|327.50130236430664|\n",
      "|    min|                 1|-115.16835784912108|              0.0|-115.17537689208984|              0.0|            -195.3|               0.0|\n",
      "|    max|                 2|                0.0|51.09830093383789| 106.24687957763672|50.31213760375977|         187442.26| 6790.291519257411|\n",
      "+-------+------------------+-------------------+-----------------+-------------------+-----------------+------------------+------------------+\n",
      "\n"
     ]
    }
   ],
   "source": [
    "uber.describe().show()"
   ]
  },
  {
   "cell_type": "code",
   "execution_count": 24,
   "metadata": {},
   "outputs": [
    {
     "name": "stdout",
     "output_type": "stream",
     "text": [
      "+--------+----------------+---------------+-----------------+----------------+------------+--------------+\n",
      "|VendorID|pickup_longitude|pickup_latitude|dropoff_longitude|dropoff_latitude|total_amount|distance_miles|\n",
      "+--------+----------------+---------------+-----------------+----------------+------------+--------------+\n",
      "|       0|               0|              0|                0|               0|           0|             0|\n",
      "+--------+----------------+---------------+-----------------+----------------+------------+--------------+\n",
      "\n"
     ]
    }
   ],
   "source": [
    "g=uber.select('VendorID','pickup_longitude','pickup_latitude',\n",
    "                   'dropoff_longitude','dropoff_latitude','total_amount','distance_miles')\n",
    "g.select([count(when(isnan(c), c)).alias(c) for c in g.columns]).show()"
   ]
  },
  {
   "cell_type": "code",
   "execution_count": 25,
   "metadata": {},
   "outputs": [],
   "source": [
    "uber.write.csv('/Users/sakshambhatia/Documents/fullUberDataSet.csv')"
   ]
  },
  {
   "cell_type": "code",
   "execution_count": 47,
   "metadata": {},
   "outputs": [],
   "source": [
    "uber.createOrReplaceTempView('uber')"
   ]
  },
  {
   "cell_type": "code",
   "execution_count": 27,
   "metadata": {},
   "outputs": [
    {
     "name": "stdout",
     "output_type": "stream",
     "text": [
      "+-------------------+\n",
      "|          dateRange|\n",
      "+-------------------+\n",
      "|2016-06-01 12:30:00|\n",
      "|2016-06-12 21:59:19|\n",
      "+-------------------+\n",
      "\n"
     ]
    }
   ],
   "source": [
    "spark.sql('select min(tpep_pickup_datetime) as dateRange from uber union select max(tpep_pickup_datetime) from uber').show()"
   ]
  },
  {
   "cell_type": "code",
   "execution_count": 28,
   "metadata": {},
   "outputs": [
    {
     "name": "stdout",
     "output_type": "stream",
     "text": [
      "+-------------------+\n",
      "|         start_date|\n",
      "+-------------------+\n",
      "|2016-06-01 12:30:00|\n",
      "+-------------------+\n",
      "\n",
      "+-------------------+\n",
      "|           end_date|\n",
      "+-------------------+\n",
      "|2016-06-12 21:59:19|\n",
      "+-------------------+\n",
      "\n"
     ]
    }
   ],
   "source": [
    "uber.select(min(\"tpep_pickup_datetime\").alias('start_date')).show()\n",
    "uber.select(max(\"tpep_pickup_datetime\").alias('end_date')).show()"
   ]
  },
  {
   "cell_type": "code",
   "execution_count": 29,
   "metadata": {},
   "outputs": [
    {
     "name": "stdout",
     "output_type": "stream",
     "text": [
      "+----+--------------------+\n",
      "|week|      total_distance|\n",
      "+----+--------------------+\n",
      "|  22|3.7738647911456354E7|\n",
      "|  23| 3.541426417288098E7|\n",
      "+----+--------------------+\n",
      "\n"
     ]
    }
   ],
   "source": [
    "spark.sql(\"select weekofyear(tpep_pickup_datetime) as week,sum(distance_miles) as total_distance from uber group by weekofyear(tpep_pickup_datetime)\").show()"
   ]
  },
  {
   "cell_type": "code",
   "execution_count": 30,
   "metadata": {},
   "outputs": [
    {
     "name": "stdout",
     "output_type": "stream",
     "text": [
      "+------------+--------------------+\n",
      "|date_by_week| sum(distance_miles)|\n",
      "+------------+--------------------+\n",
      "|          22|3.7738647911456354E7|\n",
      "|          23| 3.541426417288098E7|\n",
      "+------------+--------------------+\n",
      "\n"
     ]
    }
   ],
   "source": [
    "uber.groupBy(weekofyear(\"tpep_pickup_datetime\").alias(\"date_by_week\")).agg(sum(\"distance_miles\")).orderBy(\"date_by_week\").show()"
   ]
  },
  {
   "cell_type": "code",
   "execution_count": 31,
   "metadata": {},
   "outputs": [
    {
     "name": "stdout",
     "output_type": "stream",
     "text": [
      "+--------+\n",
      "|VendorID|\n",
      "+--------+\n",
      "|       1|\n",
      "+--------+\n",
      "\n"
     ]
    }
   ],
   "source": [
    "spark.sql('select VendorID from uber group by vendorID order by sum(distance_miles) desc limit 1').show()"
   ]
  },
  {
   "cell_type": "code",
   "execution_count": 32,
   "metadata": {},
   "outputs": [
    {
     "name": "stdout",
     "output_type": "stream",
     "text": [
      "+--------+\n",
      "|VendorID|\n",
      "+--------+\n",
      "|       1|\n",
      "+--------+\n",
      "only showing top 1 row\n",
      "\n"
     ]
    }
   ],
   "source": [
    "(uber.select(\"VendorID\",\"distance_miles\").groupBy('VendorID').agg(sum('distance_miles').alias('Sum_distance'))).select(\"VendorID\").orderBy(\"Sum_distance\",ascending=False).show(1)"
   ]
  },
  {
   "cell_type": "code",
   "execution_count": 4,
   "metadata": {},
   "outputs": [
    {
     "data": {
      "application/vnd.jupyter.widget-view+json": {
       "model_id": "5c517a423e934c329ea1c5f36a28899c",
       "version_major": 2,
       "version_minor": 0
      },
      "text/plain": [
       "IntRangeSlider(value=(1, 12), description='day range:', max=12, min=1)"
      ]
     },
     "metadata": {},
     "output_type": "display_data"
    }
   ],
   "source": [
    "range_slider = widgets.IntRangeSlider(\n",
    "    value=[1, 12],\n",
    "    min=1, max=12., step=1,\n",
    "    description='day range:',\n",
    "    \n",
    ")\n",
    "range_slider"
   ]
  },
  {
   "cell_type": "code",
   "execution_count": 34,
   "metadata": {},
   "outputs": [],
   "source": [
    "query=(\"select sum(total_amount) as total_revenue from uber where dayofmonth(tpep_pickup_datetime) between {} and {}\"\n",
    "       .format(range_slider.value[0],range_slider.value[1]))"
   ]
  },
  {
   "cell_type": "code",
   "execution_count": 35,
   "metadata": {},
   "outputs": [
    {
     "name": "stdout",
     "output_type": "stream",
     "text": [
      "+-------------------+\n",
      "|      total_revenue|\n",
      "+-------------------+\n",
      "|5.493257646035227E7|\n",
      "+-------------------+\n",
      "\n"
     ]
    }
   ],
   "source": [
    "spark.sql(query).show()"
   ]
  },
  {
   "cell_type": "code",
   "execution_count": 50,
   "metadata": {},
   "outputs": [
    {
     "name": "stdout",
     "output_type": "stream",
     "text": [
      "+----------------------------------------------------------------+\n",
      "|total revenue  between 2016-06-10 04:06:40 & 2016-06-12 16:29:14|\n",
      "+----------------------------------------------------------------+\n",
      "|                                            1.3916620769971028E7|\n",
      "+----------------------------------------------------------------+\n",
      "\n"
     ]
    }
   ],
   "source": [
    "gs=uber.filter((uber[\"tpep_pickup_datetime\"]>=\"2016-06-10 04:06:40\") & (uber[\"tpep_pickup_datetime\"]<=\"2016-06-12 16:29:14\"))\n",
    "gs.agg(sum('total_amount').alias('total revenue  between 2016-06-10 04:06:40 & 2016-06-12 16:29:14')).show()"
   ]
  },
  {
   "cell_type": "code",
   "execution_count": 37,
   "metadata": {},
   "outputs": [],
   "source": [
    "sc.stop()"
   ]
  },
  {
   "cell_type": "code",
   "execution_count": null,
   "metadata": {},
   "outputs": [],
   "source": []
  }
 ],
 "metadata": {
  "kernelspec": {
   "display_name": "Python 3",
   "language": "python",
   "name": "python3"
  },
  "language_info": {
   "codemirror_mode": {
    "name": "ipython",
    "version": 3
   },
   "file_extension": ".py",
   "mimetype": "text/x-python",
   "name": "python",
   "nbconvert_exporter": "python",
   "pygments_lexer": "ipython3",
   "version": "3.7.4"
  }
 },
 "nbformat": 4,
 "nbformat_minor": 2
}
